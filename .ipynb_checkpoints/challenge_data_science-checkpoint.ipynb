{
 "cells": [
  {
   "cell_type": "code",
   "execution_count": 5,
   "id": "9c364b7d",
   "metadata": {},
   "outputs": [],
   "source": [
    "import numpy as np\n",
    "import matplotlib.pyplot as plt\n",
    "import pandas as pd\n",
    "import bz2"
   ]
  },
  {
   "cell_type": "markdown",
   "id": "9a5b9ede",
   "metadata": {},
   "source": [
    "### EJERCICIO 01"
   ]
  },
  {
   "cell_type": "code",
   "execution_count": null,
   "id": "61e8e5e3",
   "metadata": {},
   "outputs": [],
   "source": [
    "!bzcat /home/dsc/data/challenge/bookings.csv.bz2"
   ]
  },
  {
   "cell_type": "code",
   "execution_count": 8,
   "id": "4d34a615",
   "metadata": {},
   "outputs": [
    {
     "name": "stdout",
     "output_type": "stream",
     "text": [
      "File /home/dsc/data/challenge/bookings.csv.bz2 contain 10000011 lines\n"
     ]
    }
   ],
   "source": [
    "myfile1 = '/home/dsc/data/challenge/bookings.csv.bz2'\n",
    "with bz2.open(myfile1, 'rb') as f:\n",
    "    for i, l in enumerate(f):\n",
    "        pass\n",
    "print(\"File {1} contain {0} lines\".format(i + 1, myfile1))"
   ]
  },
  {
   "cell_type": "code",
   "execution_count": 9,
   "id": "fdf142e7",
   "metadata": {},
   "outputs": [
    {
     "name": "stdout",
     "output_type": "stream",
     "text": [
      "File /home/dsc/data/challenge/searches.csv.bz2 contain 20390199 lines\n"
     ]
    }
   ],
   "source": [
    "myfile2 = '/home/dsc/data/challenge/searches.csv.bz2'\n",
    "with bz2.open(myfile2, 'rb') as f:\n",
    "    for i, l in enumerate(f):\n",
    "        pass\n",
    "print(\"File {1} contain {0} lines\".format(i + 1, myfile2))"
   ]
  },
  {
   "cell_type": "code",
   "execution_count": null,
   "id": "10c2990e",
   "metadata": {},
   "outputs": [],
   "source": [
    "# en bash\n",
    "!bzcat /home/dsc/data/challenge/searches.csv.bz2 | wc -l"
   ]
  },
  {
   "cell_type": "markdown",
   "id": "83fcfd4c",
   "metadata": {},
   "source": [
    "### EJERCICIO 02\n",
    "- Top 10 aeropuertos por numero de passangers"
   ]
  },
  {
   "cell_type": "code",
   "execution_count": 13,
   "id": "14663ef2",
   "metadata": {},
   "outputs": [
    {
     "name": "stdout",
     "output_type": "stream",
     "text": [
      "\r\n",
      "bzcat: I/O or other error, bailing out.  Possible reason follows.\r\n",
      "bzcat: Broken pipe\r\n",
      "\tInput file = /home/dsc/data/challenge/bookings.csv.bz2, output file = (stdout)\r\n"
     ]
    }
   ],
   "source": [
    "!bzcat /home/dsc/data/challenge/bookings.csv.bz2 | head -n10000 > bookings_sample.csv"
   ]
  },
  {
   "cell_type": "code",
   "execution_count": 29,
   "id": "201f3df8",
   "metadata": {},
   "outputs": [],
   "source": [
    "cols_list =['arr_port','pax','year']\n",
    "sample_bookings = pd.read_csv('/home/dsc/repos/challenge_data_science/bookings_sample.csv', sep='^', usecols=cols_list)"
   ]
  },
  {
   "cell_type": "code",
   "execution_count": 30,
   "id": "2f6e8c4c",
   "metadata": {},
   "outputs": [],
   "source": [
    "sample_bookings = sample_bookings.dropna()"
   ]
  },
  {
   "cell_type": "code",
   "execution_count": 31,
   "id": "db32dcec",
   "metadata": {},
   "outputs": [],
   "source": [
    "sample_bookings['arr_port'] = sample_bookings['arr_port'].apply(lambda x: x.upper().strip())"
   ]
  },
  {
   "cell_type": "code",
   "execution_count": 37,
   "id": "0761b2f9",
   "metadata": {},
   "outputs": [
    {
     "data": {
      "text/html": [
       "<div>\n",
       "<style scoped>\n",
       "    .dataframe tbody tr th:only-of-type {\n",
       "        vertical-align: middle;\n",
       "    }\n",
       "\n",
       "    .dataframe tbody tr th {\n",
       "        vertical-align: top;\n",
       "    }\n",
       "\n",
       "    .dataframe thead th {\n",
       "        text-align: right;\n",
       "    }\n",
       "</style>\n",
       "<table border=\"1\" class=\"dataframe\">\n",
       "  <thead>\n",
       "    <tr style=\"text-align: right;\">\n",
       "      <th></th>\n",
       "      <th>arr_port</th>\n",
       "      <th>year</th>\n",
       "      <th>pax</th>\n",
       "    </tr>\n",
       "  </thead>\n",
       "  <tbody>\n",
       "    <tr>\n",
       "      <th>257</th>\n",
       "      <td>HKG</td>\n",
       "      <td>2013</td>\n",
       "      <td>112</td>\n",
       "    </tr>\n",
       "    <tr>\n",
       "      <th>336</th>\n",
       "      <td>LGA</td>\n",
       "      <td>2013</td>\n",
       "      <td>95</td>\n",
       "    </tr>\n",
       "    <tr>\n",
       "      <th>440</th>\n",
       "      <td>ORD</td>\n",
       "      <td>2013</td>\n",
       "      <td>94</td>\n",
       "    </tr>\n",
       "    <tr>\n",
       "      <th>296</th>\n",
       "      <td>JFK</td>\n",
       "      <td>2013</td>\n",
       "      <td>92</td>\n",
       "    </tr>\n",
       "    <tr>\n",
       "      <th>328</th>\n",
       "      <td>LAX</td>\n",
       "      <td>2013</td>\n",
       "      <td>91</td>\n",
       "    </tr>\n",
       "    <tr>\n",
       "      <th>529</th>\n",
       "      <td>SFO</td>\n",
       "      <td>2013</td>\n",
       "      <td>91</td>\n",
       "    </tr>\n",
       "    <tr>\n",
       "      <th>369</th>\n",
       "      <td>MCO</td>\n",
       "      <td>2013</td>\n",
       "      <td>90</td>\n",
       "    </tr>\n",
       "    <tr>\n",
       "      <th>157</th>\n",
       "      <td>DCA</td>\n",
       "      <td>2013</td>\n",
       "      <td>82</td>\n",
       "    </tr>\n",
       "    <tr>\n",
       "      <th>159</th>\n",
       "      <td>DEN</td>\n",
       "      <td>2013</td>\n",
       "      <td>79</td>\n",
       "    </tr>\n",
       "    <tr>\n",
       "      <th>340</th>\n",
       "      <td>LHR</td>\n",
       "      <td>2013</td>\n",
       "      <td>76</td>\n",
       "    </tr>\n",
       "  </tbody>\n",
       "</table>\n",
       "</div>"
      ],
      "text/plain": [
       "    arr_port  year  pax\n",
       "257      HKG  2013  112\n",
       "336      LGA  2013   95\n",
       "440      ORD  2013   94\n",
       "296      JFK  2013   92\n",
       "328      LAX  2013   91\n",
       "529      SFO  2013   91\n",
       "369      MCO  2013   90\n",
       "157      DCA  2013   82\n",
       "159      DEN  2013   79\n",
       "340      LHR  2013   76"
      ]
     },
     "execution_count": 37,
     "metadata": {},
     "output_type": "execute_result"
    }
   ],
   "source": [
    "sample_bookings.groupby(['arr_port','year']).sum().reset_index().sort_values(by= 'pax', ascending=False).head(10)"
   ]
  },
  {
   "cell_type": "code",
   "execution_count": null,
   "id": "00f6be93",
   "metadata": {},
   "outputs": [],
   "source": [
    "#AHORA QUE LO TENEMOS PARA UN SAMPLE, VAMOS A POR EN ARCHIVO AL COMPLETO"
   ]
  },
  {
   "cell_type": "code",
   "execution_count": 54,
   "id": "a1859439",
   "metadata": {},
   "outputs": [],
   "source": [
    "#creamos una funcion que aplicaremos a cada trocito de archivo\n",
    "def normalize_bookings(booking_sample):\n",
    "    #cols_list =['arr_port','pax','year']\n",
    "    #sample_bookings = pd.read_csv('/home/dsc/repos/challenge_data_science/bookings_sample.csv', sep='^', usecols=cols_list)\n",
    "    sample_bookings = booking_sample.dropna()\n",
    "    sample_bookings = sample_bookings['arr_port'].apply(lambda x: x.upper().strip())\n",
    "    #top_10 = sample_bookings.groupby(['arr_port','year']).sum().reset_index().sort_values(by= 'pax', ascending=False).head(10)\n",
    "    return sample_bookings"
   ]
  },
  {
   "cell_type": "code",
   "execution_count": null,
   "id": "7560e4ef",
   "metadata": {},
   "outputs": [],
   "source": [
    "#Aplicamos a cada trocito la funcion\n",
    "dataframe = pd.DataFrame()\n",
    "cols_list =['arr_port','pax','year']\n",
    "chunksize = 1000\n",
    "for chunk in pd.read_csv('/home/dsc/data/challenge/bookings.csv.bz2', sep='^', compression = 'bz2', usecols=cols_list, chunksize=chunksize):\n",
    "    dataframe = dataframe.append(normalize_bookings(chunk))\n",
    "dataframe_final = dataframe.groupby(['arr_port','year']).sum().reset_index().sort_values(by= 'pax', ascending=False).head(10)\n",
    "dataframe_final.head(10)"
   ]
  },
  {
   "cell_type": "markdown",
   "id": "4ca9da24",
   "metadata": {},
   "source": [
    "### Ejercicio 03"
   ]
  },
  {
   "cell_type": "code",
   "execution_count": null,
   "id": "5f6b92ae",
   "metadata": {},
   "outputs": [],
   "source": []
  }
 ],
 "metadata": {
  "kernelspec": {
   "display_name": "Python 3 (ipykernel)",
   "language": "python",
   "name": "python3"
  },
  "language_info": {
   "codemirror_mode": {
    "name": "ipython",
    "version": 3
   },
   "file_extension": ".py",
   "mimetype": "text/x-python",
   "name": "python",
   "nbconvert_exporter": "python",
   "pygments_lexer": "ipython3",
   "version": "3.8.11"
  }
 },
 "nbformat": 4,
 "nbformat_minor": 5
}
