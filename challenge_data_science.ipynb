{
 "cells": [
  {
   "cell_type": "code",
   "execution_count": 5,
   "id": "26e618ee",
   "metadata": {},
   "outputs": [],
   "source": [
    "import numpy as np\n",
    "import matplotlib.pyplot as plt\n",
    "import pandas as pd\n",
    "import bz2"
   ]
  },
  {
   "cell_type": "markdown",
   "id": "6ead1e6c",
   "metadata": {},
   "source": [
    "### EJERCICIO 01"
   ]
  },
  {
   "cell_type": "code",
   "execution_count": null,
   "id": "bba3eb90",
   "metadata": {},
   "outputs": [],
   "source": [
    "!bzcat /home/dsc/data/challenge/bookings.csv.bz2"
   ]
  },
  {
   "cell_type": "code",
   "execution_count": 8,
   "id": "52e414cb",
   "metadata": {},
   "outputs": [
    {
     "name": "stdout",
     "output_type": "stream",
     "text": [
      "File /home/dsc/data/challenge/bookings.csv.bz2 contain 10000011 lines\n"
     ]
    }
   ],
   "source": [
    "myfile1 = '/home/dsc/data/challenge/bookings.csv.bz2'\n",
    "with bz2.open(myfile1, 'rb') as f:\n",
    "    for i, l in enumerate(f):\n",
    "        pass\n",
    "print(\"File {1} contain {0} lines\".format(i + 1, myfile1))"
   ]
  },
  {
   "cell_type": "code",
   "execution_count": 9,
   "id": "6827b141",
   "metadata": {},
   "outputs": [
    {
     "name": "stdout",
     "output_type": "stream",
     "text": [
      "File /home/dsc/data/challenge/searches.csv.bz2 contain 20390199 lines\n"
     ]
    }
   ],
   "source": [
    "myfile2 = '/home/dsc/data/challenge/searches.csv.bz2'\n",
    "with bz2.open(myfile2, 'rb') as f:\n",
    "    for i, l in enumerate(f):\n",
    "        pass\n",
    "print(\"File {1} contain {0} lines\".format(i + 1, myfile2))"
   ]
  },
  {
   "cell_type": "code",
   "execution_count": null,
   "id": "4f67b82e",
   "metadata": {},
   "outputs": [],
   "source": [
    "# en bash\n",
    "!bzcat /home/dsc/data/challenge/searches.csv.bz2 | wc -l"
   ]
  }
 ],
 "metadata": {
  "kernelspec": {
   "display_name": "Python 3 (ipykernel)",
   "language": "python",
   "name": "python3"
  },
  "language_info": {
   "codemirror_mode": {
    "name": "ipython",
    "version": 3
   },
   "file_extension": ".py",
   "mimetype": "text/x-python",
   "name": "python",
   "nbconvert_exporter": "python",
   "pygments_lexer": "ipython3",
   "version": "3.8.11"
  }
 },
 "nbformat": 4,
 "nbformat_minor": 5
}
